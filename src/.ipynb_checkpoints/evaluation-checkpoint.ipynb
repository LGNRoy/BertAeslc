{
 "cells": [
  {
   "cell_type": "code",
   "execution_count": 49,
   "metadata": {},
   "outputs": [],
   "source": [
    "from __future__ import division\n",
    "\n",
    "import argparse\n",
    "import glob\n",
    "import os\n",
    "import random\n",
    "import signal\n",
    "import time\n",
    "\n",
    "import torch\n",
    "from pytorch_transformers import BertTokenizer\n",
    "\n",
    "import distributed\n",
    "from models import data_loader, model_builder\n",
    "from models.data_loader import load_dataset\n",
    "from models.loss import abs_loss\n",
    "from models.model_builder import AbsSummarizer\n",
    "from models.predictor import build_predictor\n",
    "from models.trainer import build_trainer\n",
    "from others.logging import logger, init_logger"
   ]
  },
  {
   "cell_type": "code",
   "execution_count": null,
   "metadata": {},
   "outputs": [],
   "source": []
  },
  {
   "cell_type": "code",
   "execution_count": 50,
   "metadata": {},
   "outputs": [],
   "source": [
    "class Args():\n",
    "    name = \"args\"\n",
    "args = Args()"
   ]
  },
  {
   "cell_type": "code",
   "execution_count": 66,
   "metadata": {},
   "outputs": [],
   "source": [
    "setattr(args, \"task\", 'ext')\n",
    "setattr(args, \"encoder\", 'bert')\n",
    "setattr(args, \"mode\", 'train')\n",
    "setattr(args, \"bert_data_path\", '../bert_data_new/cnndm')\n",
    "setattr(args, \"model_path\", '../models/')\n",
    "setattr(args, \"result_path\", '../results/cnndm')\n",
    "setattr(args, \"temp_dir\", '../temp')\n",
    "\n",
    "setattr(args, \"batch_size\", 140)\n",
    "setattr(args, \"test_batch_size\", 200)\n",
    "\n",
    "setattr(args, \"max_pos\", 512)\n",
    "setattr(args, \"use_interval\", True)\n",
    "setattr(args, \"large\", False)\n",
    "setattr(args, \"load_from_extractive\", '')\n",
    "\n",
    "setattr(args, \"sep_optim\", False)\n",
    "setattr(args, \"lr_bert\", 2e-3)\n",
    "setattr(args, \"lr_dec\", 2e-3)\n",
    "setattr(args, \"use_bert_emb\", False)\n",
    "\n",
    "setattr(args, \"share_emb\", False)\n",
    "setattr(args, \"finetune_bert\", True)\n",
    "setattr(args, \"dec_dropout\", 0.2)\n",
    "setattr(args, \"dec_layers\", 6)\n",
    "setattr(args, \"dec_hidden_size\", 768)\n",
    "setattr(args, \"dec_heads\", 8)\n",
    "setattr(args, \"dec_ff_size\", 2048)\n",
    "setattr(args, \"enc_hidden_size\", 512)\n",
    "setattr(args, \"enc_ff_size\", 512)\n",
    "setattr(args, \"enc_dropout\", 0.2)\n",
    "setattr(args, \"enc_layers\", 6)\n",
    "\n",
    "# params for EXT\n",
    "# setattr(args, \"ext_dropout\", default=0.2, type=float)\n",
    "# setattr(args, \"ext_layers\", default=2, type=int)\n",
    "# setattr(args, \"ext_hidden_size\", default=768, type=int)\n",
    "# setattr(args, \"ext_heads\", default=8, type=int)\n",
    "# setattr(args, \"ext_ff_size\", default=2048, type=int)\n",
    "\n",
    "setattr(args, \"label_smoothing\", 0.1)\n",
    "setattr(args, \"generator_shard_size\", 32)\n",
    "setattr(args, \"alpha\", 0.6)\n",
    "setattr(args, \"beam_size\", 5)\n",
    "setattr(args, \"min_length\", 15)\n",
    "setattr(args, \"max_length\", 150)\n",
    "setattr(args, \"max_tgt_len\", 140)\n",
    "\n",
    "\n",
    "\n",
    "setattr(args, \"param_init\", 0)\n",
    "setattr(args, \"param_init_glorot\", True)\n",
    "setattr(args, \"optim\", 'adam')\n",
    "setattr(args, \"lr\", 1)\n",
    "setattr(args, \"beta1\", 0.9)\n",
    "setattr(args, \"beta2\", 0.999)\n",
    "setattr(args, \"warmup_steps\", 8000)\n",
    "setattr(args, \"warmup_steps_bert\", 8000)\n",
    "setattr(args, \"warmup_steps_dec\", 8000)\n",
    "setattr(args, \"max_grad_norm\", 0)\n",
    "\n",
    "setattr(args, \"save_checkpoint_steps\", 5)\n",
    "setattr(args, \"accum_count\", 1)\n",
    "setattr(args, \"report_every\", 1)\n",
    "setattr(args, \"train_steps\", 1000)\n",
    "setattr(args, \"recall_eval\", False)\n",
    "\n",
    "\n",
    "setattr(args, \"visible_gpus\", '-1')\n",
    "setattr(args, \"gpu_ranks\", '0')\n",
    "setattr(args, \"log_file\", '../logs/cnndm.log')\n",
    "setattr(args, \"seed\", 666)\n",
    "\n",
    "setattr(args, \"test_all\", True)\n",
    "setattr(args, \"test_from\", '')\n",
    "setattr(args, \"test_start_from\", -1)\n",
    "\n",
    "setattr(args, \"train_from\", '')\n",
    "setattr(args, \"report_rouge\", True)\n",
    "setattr(args, \"block_trigram\", True)"
   ]
  },
  {
   "cell_type": "code",
   "execution_count": 67,
   "metadata": {},
   "outputs": [],
   "source": [
    "setattr(args, \"task\", \"abs\")\n",
    "setattr(args, \"mode\", \"train\")\n",
    "setattr(args, \"bert_data_path\", \"../bert_data/bert_data_cnndm_final/cnndm\")\n",
    "setattr(args, \"dec_dropout\", 0.2)\n",
    "setattr(args, \"model_path\", \"../models/absext\")\n",
    "setattr(args, \"sep_optim\", True)\n",
    "setattr(args, \"lr_bert\", 0.002)\n",
    "setattr(args, \"lr_dec\", 0.2)\n",
    "setattr(args, \"save_checkpoint_steps\", 2000)\n",
    "setattr(args, \"batch_size\", 140)\n",
    "setattr(args, \"train_steps\", 200000)\n",
    "setattr(args, \"report_every\", 50)\n",
    "setattr(args, \"accum_count\", 5)\n",
    "setattr(args, \"use_bert_emb\", True)\n",
    "setattr(args, \"use_interval\", True)\n",
    "setattr(args, \"warmup_steps_bert\", 20000)\n",
    "setattr(args, \"warmup_steps_dec\", 10000)\n",
    "setattr(args, \"max_pos\", 512)\n",
    "setattr(args, \"visible_gpus\", \"0\")\n",
    "setattr(args, \"log_file\", \"../logs/abs_bert_cnndm\")\n",
    "setattr(args, \"load_from_extractive\", \"../models/ext/bertext_cnndm_transformer.pt\")"
   ]
  },
  {
   "cell_type": "code",
   "execution_count": null,
   "metadata": {},
   "outputs": [],
   "source": []
  },
  {
   "cell_type": "code",
   "execution_count": 53,
   "metadata": {},
   "outputs": [],
   "source": [
    "model_flags = ['hidden_size', 'ff_size', 'heads', 'emb_size', 'enc_layers', 'enc_hidden_size', 'enc_ff_size',\n",
    "               'dec_layers', 'dec_hidden_size', 'dec_ff_size', 'encoder', 'ff_actv', 'use_interval']"
   ]
  },
  {
   "cell_type": "code",
   "execution_count": 56,
   "metadata": {},
   "outputs": [],
   "source": [
    "def validate(args, device_id, pt, step):\n",
    "    device = \"cpu\" if args.visible_gpus == '-1' else \"cuda\"\n",
    "    if (pt != ''):\n",
    "        test_from = pt\n",
    "    else:\n",
    "        test_from = args.test_from\n",
    "    logger.info('Loading checkpoint from %s' % test_from)\n",
    "    checkpoint = torch.load(test_from, map_location=lambda storage, loc: storage)\n",
    "    opt = vars(checkpoint['opt'])\n",
    "    for k in opt.keys():\n",
    "        if (k in model_flags):\n",
    "            setattr(args, k, opt[k])\n",
    "    print(args)\n",
    "    \n",
    "    model = AbsSummarizer(args, device, checkpoint)\n",
    "    model.eval()\n",
    "\n",
    "    valid_iter = data_loader.Dataloader(args, load_dataset(args, 'valid', shuffle=False),\n",
    "                                        args.batch_size, device,\n",
    "                                        shuffle=False, is_test=False)\n",
    "\n",
    "    tokenizer = BertTokenizer.from_pretrained('bert-base-uncased', do_lower_case=True, cache_dir=args.temp_dir)\n",
    "    symbols = {'BOS': tokenizer.vocab['[unused0]'], 'EOS': tokenizer.vocab['[unused1]'],\n",
    "               'PAD': tokenizer.vocab['[PAD]'], 'EOQ': tokenizer.vocab['[unused2]']}\n",
    "\n",
    "    valid_loss = abs_loss(model.generator, symbols, model.vocab_size, train=False, device=device)\n",
    "\n",
    "    trainer = build_trainer(args, device_id, model, None, valid_loss)\n",
    "    stats = trainer.validate(valid_iter, step)\n",
    "    return stats.xent()"
   ]
  },
  {
   "cell_type": "code",
   "execution_count": 57,
   "metadata": {},
   "outputs": [],
   "source": [
    "cp = \"\"\n",
    "cp_files = sorted(glob.glob(os.path.join(args.model_path, 'model_step_*.pt')))\n",
    "cp_files.sort(key=os.path.getmtime)\n",
    "if (cp_files):\n",
    "    cp = cp_files[-1]"
   ]
  },
  {
   "cell_type": "code",
   "execution_count": 58,
   "metadata": {},
   "outputs": [],
   "source": [
    "device_id = -1\n",
    "step = int(cp.split('.')[-2].split('_')[-1])"
   ]
  },
  {
   "cell_type": "code",
   "execution_count": 59,
   "metadata": {},
   "outputs": [],
   "source": [
    "# validate(args, device_id, cp, step)"
   ]
  },
  {
   "cell_type": "code",
   "execution_count": 60,
   "metadata": {},
   "outputs": [],
   "source": [
    "def test_abs(args, device_id, pt, step):\n",
    "    device = \"cpu\" if args.visible_gpus == '-1' else \"cuda\"\n",
    "    if (pt != ''):\n",
    "        test_from = pt\n",
    "    else:\n",
    "        test_from = args.test_from\n",
    "    logger.info('Loading checkpoint from %s' % test_from)\n",
    "\n",
    "    checkpoint = torch.load(test_from, map_location=lambda storage, loc: storage)\n",
    "    opt = vars(checkpoint['opt'])\n",
    "    for k in opt.keys():\n",
    "        if (k in model_flags):\n",
    "            setattr(args, k, opt[k])\n",
    "    print(args)\n",
    "\n",
    "    model = AbsSummarizer(args, device, checkpoint)\n",
    "    model.eval()\n",
    "\n",
    "    test_iter = data_loader.Dataloader(args, load_dataset(args, 'test', shuffle=False),\n",
    "                                       args.test_batch_size, device,\n",
    "                                       shuffle=False, is_test=True)\n",
    "                                       \n",
    "    tokenizer = BertTokenizer.from_pretrained('bert-base-uncased', do_lower_case=True, cache_dir=args.temp_dir)\n",
    "    symbols = {'BOS': tokenizer.vocab['[unused0]'], 'EOS': tokenizer.vocab['[unused1]'],\n",
    "               'PAD': tokenizer.vocab['[PAD]'], 'EOQ': tokenizer.vocab['[unused2]']}\n",
    "    predictor = build_predictor(args, tokenizer, symbols, model, logger)\n",
    "    predictor.translate(test_iter, step)"
   ]
  },
  {
   "cell_type": "code",
   "execution_count": 68,
   "metadata": {},
   "outputs": [
    {
     "name": "stdout",
     "output_type": "stream",
     "text": [
      "<__main__.Args object at 0x0000020E80C6B128>\n",
      "9488\n",
      "9488\n"
     ]
    },
    {
     "name": "stderr",
     "output_type": "stream",
     "text": [
      "2019-09-10 09:44:20,807 [MainThread  ] [INFO ]  Writing summaries.\n",
      "2019-09-10 09:44:20,810 [MainThread  ] [INFO ]  Processing summaries. Saving system files to ../temp\\tmpwtpmhu6y\\system and model files to ../temp\\tmpwtpmhu6y\\model.\n",
      "2019-09-10 09:44:20,811 [MainThread  ] [INFO ]  Processing files in ../temp\\rouge-tmp-2019-09-10-09-44-11/candidate/.\n",
      "2019-09-10 09:44:28,131 [MainThread  ] [INFO ]  Saved processed files to ../temp\\tmpwtpmhu6y\\system.\n",
      "2019-09-10 09:44:28,133 [MainThread  ] [INFO ]  Processing files in ../temp\\rouge-tmp-2019-09-10-09-44-11/reference/.\n",
      "2019-09-10 09:44:34,629 [MainThread  ] [INFO ]  Saved processed files to ../temp\\tmpwtpmhu6y\\model.\n",
      "2019-09-10 09:44:34,695 [MainThread  ] [INFO ]  Written ROUGE configuration to ../temp\\tmpp8xrairo\\rouge_conf.xml\n",
      "2019-09-10 09:44:34,696 [MainThread  ] [INFO ]  Running ROUGE with command D:\\study\\pyrouge-master\\tools\\ROUGE-1.5.5\\ROUGE-1.5.5.pl -e D:\\study\\pyrouge-master\\tools\\ROUGE-1.5.5\\data -c 95 -m -r 1000 -n 2 -a ../temp\\tmpp8xrairo\\rouge_conf.xml\n"
     ]
    },
    {
     "ename": "OSError",
     "evalue": "[WinError 193] %1 不是有效的 Win32 应用程序。",
     "output_type": "error",
     "traceback": [
      "\u001b[1;31m---------------------------------------------------------------------------\u001b[0m",
      "\u001b[1;31mOSError\u001b[0m                                   Traceback (most recent call last)",
      "\u001b[1;32m<ipython-input-68-3b9de45b81e0>\u001b[0m in \u001b[0;36m<module>\u001b[1;34m\u001b[0m\n\u001b[1;32m----> 1\u001b[1;33m \u001b[0mtest_abs\u001b[0m\u001b[1;33m(\u001b[0m\u001b[0margs\u001b[0m\u001b[1;33m,\u001b[0m \u001b[0mdevice_id\u001b[0m\u001b[1;33m,\u001b[0m \u001b[0mcp\u001b[0m\u001b[1;33m,\u001b[0m \u001b[0mstep\u001b[0m\u001b[1;33m)\u001b[0m\u001b[1;33m\u001b[0m\u001b[1;33m\u001b[0m\u001b[0m\n\u001b[0m",
      "\u001b[1;32m<ipython-input-60-553b888e9eb3>\u001b[0m in \u001b[0;36mtest_abs\u001b[1;34m(args, device_id, pt, step)\u001b[0m\n\u001b[0;32m     25\u001b[0m                'PAD': tokenizer.vocab['[PAD]'], 'EOQ': tokenizer.vocab['[unused2]']}\n\u001b[0;32m     26\u001b[0m     \u001b[0mpredictor\u001b[0m \u001b[1;33m=\u001b[0m \u001b[0mbuild_predictor\u001b[0m\u001b[1;33m(\u001b[0m\u001b[0margs\u001b[0m\u001b[1;33m,\u001b[0m \u001b[0mtokenizer\u001b[0m\u001b[1;33m,\u001b[0m \u001b[0msymbols\u001b[0m\u001b[1;33m,\u001b[0m \u001b[0mmodel\u001b[0m\u001b[1;33m,\u001b[0m \u001b[0mlogger\u001b[0m\u001b[1;33m)\u001b[0m\u001b[1;33m\u001b[0m\u001b[1;33m\u001b[0m\u001b[0m\n\u001b[1;32m---> 27\u001b[1;33m     \u001b[0mpredictor\u001b[0m\u001b[1;33m.\u001b[0m\u001b[0mtranslate\u001b[0m\u001b[1;33m(\u001b[0m\u001b[0mtest_iter\u001b[0m\u001b[1;33m,\u001b[0m \u001b[0mstep\u001b[0m\u001b[1;33m)\u001b[0m\u001b[1;33m\u001b[0m\u001b[1;33m\u001b[0m\u001b[0m\n\u001b[0m",
      "\u001b[1;32mD:\\study\\Capstone\\PreSumm-master\\src\\models\\predictor.py\u001b[0m in \u001b[0;36mtranslate\u001b[1;34m(self, data_iter, step, attn_debug)\u001b[0m\n\u001b[0;32m    186\u001b[0m \u001b[1;33m\u001b[0m\u001b[0m\n\u001b[0;32m    187\u001b[0m         \u001b[1;32mif\u001b[0m \u001b[1;33m(\u001b[0m\u001b[0mstep\u001b[0m \u001b[1;33m!=\u001b[0m \u001b[1;33m-\u001b[0m\u001b[1;36m1\u001b[0m\u001b[1;33m)\u001b[0m\u001b[1;33m:\u001b[0m\u001b[1;33m\u001b[0m\u001b[1;33m\u001b[0m\u001b[0m\n\u001b[1;32m--> 188\u001b[1;33m             \u001b[0mrouges\u001b[0m \u001b[1;33m=\u001b[0m \u001b[0mself\u001b[0m\u001b[1;33m.\u001b[0m\u001b[0m_report_rouge\u001b[0m\u001b[1;33m(\u001b[0m\u001b[0mgold_path\u001b[0m\u001b[1;33m,\u001b[0m \u001b[0mcan_path\u001b[0m\u001b[1;33m)\u001b[0m\u001b[1;33m\u001b[0m\u001b[1;33m\u001b[0m\u001b[0m\n\u001b[0m\u001b[0;32m    189\u001b[0m             \u001b[0mself\u001b[0m\u001b[1;33m.\u001b[0m\u001b[0mlogger\u001b[0m\u001b[1;33m.\u001b[0m\u001b[0minfo\u001b[0m\u001b[1;33m(\u001b[0m\u001b[1;34m'Rouges at step %d \\n%s'\u001b[0m \u001b[1;33m%\u001b[0m \u001b[1;33m(\u001b[0m\u001b[0mstep\u001b[0m\u001b[1;33m,\u001b[0m \u001b[0mrouge_results_to_str\u001b[0m\u001b[1;33m(\u001b[0m\u001b[0mrouges\u001b[0m\u001b[1;33m)\u001b[0m\u001b[1;33m)\u001b[0m\u001b[1;33m)\u001b[0m\u001b[1;33m\u001b[0m\u001b[1;33m\u001b[0m\u001b[0m\n\u001b[0;32m    190\u001b[0m             \u001b[1;32mif\u001b[0m \u001b[0mself\u001b[0m\u001b[1;33m.\u001b[0m\u001b[0mtensorboard_writer\u001b[0m \u001b[1;32mis\u001b[0m \u001b[1;32mnot\u001b[0m \u001b[1;32mNone\u001b[0m\u001b[1;33m:\u001b[0m\u001b[1;33m\u001b[0m\u001b[1;33m\u001b[0m\u001b[0m\n",
      "\u001b[1;32mD:\\study\\Capstone\\PreSumm-master\\src\\models\\predictor.py\u001b[0m in \u001b[0;36m_report_rouge\u001b[1;34m(self, gold_path, can_path)\u001b[0m\n\u001b[0;32m    195\u001b[0m     \u001b[1;32mdef\u001b[0m \u001b[0m_report_rouge\u001b[0m\u001b[1;33m(\u001b[0m\u001b[0mself\u001b[0m\u001b[1;33m,\u001b[0m \u001b[0mgold_path\u001b[0m\u001b[1;33m,\u001b[0m \u001b[0mcan_path\u001b[0m\u001b[1;33m)\u001b[0m\u001b[1;33m:\u001b[0m\u001b[1;33m\u001b[0m\u001b[1;33m\u001b[0m\u001b[0m\n\u001b[0;32m    196\u001b[0m         \u001b[0mself\u001b[0m\u001b[1;33m.\u001b[0m\u001b[0mlogger\u001b[0m\u001b[1;33m.\u001b[0m\u001b[0minfo\u001b[0m\u001b[1;33m(\u001b[0m\u001b[1;34m\"Calculating Rouge\"\u001b[0m\u001b[1;33m)\u001b[0m\u001b[1;33m\u001b[0m\u001b[1;33m\u001b[0m\u001b[0m\n\u001b[1;32m--> 197\u001b[1;33m         \u001b[0mresults_dict\u001b[0m \u001b[1;33m=\u001b[0m \u001b[0mtest_rouge\u001b[0m\u001b[1;33m(\u001b[0m\u001b[0mself\u001b[0m\u001b[1;33m.\u001b[0m\u001b[0margs\u001b[0m\u001b[1;33m.\u001b[0m\u001b[0mtemp_dir\u001b[0m\u001b[1;33m,\u001b[0m \u001b[0mcan_path\u001b[0m\u001b[1;33m,\u001b[0m \u001b[0mgold_path\u001b[0m\u001b[1;33m)\u001b[0m\u001b[1;33m\u001b[0m\u001b[1;33m\u001b[0m\u001b[0m\n\u001b[0m\u001b[0;32m    198\u001b[0m         \u001b[1;32mreturn\u001b[0m \u001b[0mresults_dict\u001b[0m\u001b[1;33m\u001b[0m\u001b[1;33m\u001b[0m\u001b[0m\n\u001b[0;32m    199\u001b[0m \u001b[1;33m\u001b[0m\u001b[0m\n",
      "\u001b[1;32mD:\\study\\Capstone\\PreSumm-master\\src\\others\\utils.py\u001b[0m in \u001b[0;36mtest_rouge\u001b[1;34m(temp_dir, cand, ref)\u001b[0m\n\u001b[0;32m     82\u001b[0m         \u001b[0mr\u001b[0m\u001b[1;33m.\u001b[0m\u001b[0mmodel_filename_pattern\u001b[0m \u001b[1;33m=\u001b[0m \u001b[1;34m'ref.#ID#.txt'\u001b[0m\u001b[1;33m\u001b[0m\u001b[1;33m\u001b[0m\u001b[0m\n\u001b[0;32m     83\u001b[0m         \u001b[0mr\u001b[0m\u001b[1;33m.\u001b[0m\u001b[0msystem_filename_pattern\u001b[0m \u001b[1;33m=\u001b[0m \u001b[1;34mr'cand.(\\d+).txt'\u001b[0m\u001b[1;33m\u001b[0m\u001b[1;33m\u001b[0m\u001b[0m\n\u001b[1;32m---> 84\u001b[1;33m         \u001b[0mrouge_results\u001b[0m \u001b[1;33m=\u001b[0m \u001b[0mr\u001b[0m\u001b[1;33m.\u001b[0m\u001b[0mconvert_and_evaluate\u001b[0m\u001b[1;33m(\u001b[0m\u001b[1;33m)\u001b[0m\u001b[1;33m\u001b[0m\u001b[1;33m\u001b[0m\u001b[0m\n\u001b[0m\u001b[0;32m     85\u001b[0m         \u001b[0mprint\u001b[0m\u001b[1;33m(\u001b[0m\u001b[0mrouge_results\u001b[0m\u001b[1;33m)\u001b[0m\u001b[1;33m\u001b[0m\u001b[1;33m\u001b[0m\u001b[0m\n\u001b[0;32m     86\u001b[0m         \u001b[0mresults_dict\u001b[0m \u001b[1;33m=\u001b[0m \u001b[0mr\u001b[0m\u001b[1;33m.\u001b[0m\u001b[0moutput_to_dict\u001b[0m\u001b[1;33m(\u001b[0m\u001b[0mrouge_results\u001b[0m\u001b[1;33m)\u001b[0m\u001b[1;33m\u001b[0m\u001b[1;33m\u001b[0m\u001b[0m\n",
      "\u001b[1;32mD:\\study\\Capstone\\PreSumm-master\\src\\others\\pyrouge.py\u001b[0m in \u001b[0;36mconvert_and_evaluate\u001b[1;34m(self, system_id, split_sentences, rouge_args)\u001b[0m\n\u001b[0;32m    396\u001b[0m             \u001b[0mself\u001b[0m\u001b[1;33m.\u001b[0m\u001b[0msplit_sentences\u001b[0m\u001b[1;33m(\u001b[0m\u001b[1;33m)\u001b[0m\u001b[1;33m\u001b[0m\u001b[1;33m\u001b[0m\u001b[0m\n\u001b[0;32m    397\u001b[0m         \u001b[0mself\u001b[0m\u001b[1;33m.\u001b[0m\u001b[0m__write_summaries\u001b[0m\u001b[1;33m(\u001b[0m\u001b[1;33m)\u001b[0m\u001b[1;33m\u001b[0m\u001b[1;33m\u001b[0m\u001b[0m\n\u001b[1;32m--> 398\u001b[1;33m         \u001b[0mrouge_output\u001b[0m \u001b[1;33m=\u001b[0m \u001b[0mself\u001b[0m\u001b[1;33m.\u001b[0m\u001b[0mevaluate\u001b[0m\u001b[1;33m(\u001b[0m\u001b[0msystem_id\u001b[0m\u001b[1;33m,\u001b[0m \u001b[0mrouge_args\u001b[0m\u001b[1;33m)\u001b[0m\u001b[1;33m\u001b[0m\u001b[1;33m\u001b[0m\u001b[0m\n\u001b[0m\u001b[0;32m    399\u001b[0m         \u001b[1;32mreturn\u001b[0m \u001b[0mrouge_output\u001b[0m\u001b[1;33m\u001b[0m\u001b[1;33m\u001b[0m\u001b[0m\n\u001b[0;32m    400\u001b[0m \u001b[1;33m\u001b[0m\u001b[0m\n",
      "\u001b[1;32mD:\\study\\Capstone\\PreSumm-master\\src\\others\\pyrouge.py\u001b[0m in \u001b[0;36mevaluate\u001b[1;34m(self, system_id, rouge_args)\u001b[0m\n\u001b[0;32m    371\u001b[0m         self.log.info(\n\u001b[0;32m    372\u001b[0m             \"Running ROUGE with command {}\".format(\" \".join(command)))\n\u001b[1;32m--> 373\u001b[1;33m         \u001b[0mrouge_output\u001b[0m \u001b[1;33m=\u001b[0m \u001b[0mcheck_output\u001b[0m\u001b[1;33m(\u001b[0m\u001b[0mcommand\u001b[0m\u001b[1;33m)\u001b[0m\u001b[1;33m.\u001b[0m\u001b[0mdecode\u001b[0m\u001b[1;33m(\u001b[0m\u001b[1;34m\"UTF-8\"\u001b[0m\u001b[1;33m)\u001b[0m\u001b[1;33m\u001b[0m\u001b[1;33m\u001b[0m\u001b[0m\n\u001b[0m\u001b[0;32m    374\u001b[0m         \u001b[1;32mreturn\u001b[0m \u001b[0mrouge_output\u001b[0m\u001b[1;33m\u001b[0m\u001b[1;33m\u001b[0m\u001b[0m\n\u001b[0;32m    375\u001b[0m \u001b[1;33m\u001b[0m\u001b[0m\n",
      "\u001b[1;32mc:\\program files\\python37\\lib\\subprocess.py\u001b[0m in \u001b[0;36mcheck_output\u001b[1;34m(timeout, *popenargs, **kwargs)\u001b[0m\n\u001b[0;32m    393\u001b[0m \u001b[1;33m\u001b[0m\u001b[0m\n\u001b[0;32m    394\u001b[0m     return run(*popenargs, stdout=PIPE, timeout=timeout, check=True,\n\u001b[1;32m--> 395\u001b[1;33m                **kwargs).stdout\n\u001b[0m\u001b[0;32m    396\u001b[0m \u001b[1;33m\u001b[0m\u001b[0m\n\u001b[0;32m    397\u001b[0m \u001b[1;33m\u001b[0m\u001b[0m\n",
      "\u001b[1;32mc:\\program files\\python37\\lib\\subprocess.py\u001b[0m in \u001b[0;36mrun\u001b[1;34m(input, capture_output, timeout, check, *popenargs, **kwargs)\u001b[0m\n\u001b[0;32m    470\u001b[0m         \u001b[0mkwargs\u001b[0m\u001b[1;33m[\u001b[0m\u001b[1;34m'stderr'\u001b[0m\u001b[1;33m]\u001b[0m \u001b[1;33m=\u001b[0m \u001b[0mPIPE\u001b[0m\u001b[1;33m\u001b[0m\u001b[1;33m\u001b[0m\u001b[0m\n\u001b[0;32m    471\u001b[0m \u001b[1;33m\u001b[0m\u001b[0m\n\u001b[1;32m--> 472\u001b[1;33m     \u001b[1;32mwith\u001b[0m \u001b[0mPopen\u001b[0m\u001b[1;33m(\u001b[0m\u001b[1;33m*\u001b[0m\u001b[0mpopenargs\u001b[0m\u001b[1;33m,\u001b[0m \u001b[1;33m**\u001b[0m\u001b[0mkwargs\u001b[0m\u001b[1;33m)\u001b[0m \u001b[1;32mas\u001b[0m \u001b[0mprocess\u001b[0m\u001b[1;33m:\u001b[0m\u001b[1;33m\u001b[0m\u001b[1;33m\u001b[0m\u001b[0m\n\u001b[0m\u001b[0;32m    473\u001b[0m         \u001b[1;32mtry\u001b[0m\u001b[1;33m:\u001b[0m\u001b[1;33m\u001b[0m\u001b[1;33m\u001b[0m\u001b[0m\n\u001b[0;32m    474\u001b[0m             \u001b[0mstdout\u001b[0m\u001b[1;33m,\u001b[0m \u001b[0mstderr\u001b[0m \u001b[1;33m=\u001b[0m \u001b[0mprocess\u001b[0m\u001b[1;33m.\u001b[0m\u001b[0mcommunicate\u001b[0m\u001b[1;33m(\u001b[0m\u001b[0minput\u001b[0m\u001b[1;33m,\u001b[0m \u001b[0mtimeout\u001b[0m\u001b[1;33m=\u001b[0m\u001b[0mtimeout\u001b[0m\u001b[1;33m)\u001b[0m\u001b[1;33m\u001b[0m\u001b[1;33m\u001b[0m\u001b[0m\n",
      "\u001b[1;32mc:\\program files\\python37\\lib\\subprocess.py\u001b[0m in \u001b[0;36m__init__\u001b[1;34m(self, args, bufsize, executable, stdin, stdout, stderr, preexec_fn, close_fds, shell, cwd, env, universal_newlines, startupinfo, creationflags, restore_signals, start_new_session, pass_fds, encoding, errors, text)\u001b[0m\n\u001b[0;32m    773\u001b[0m                                 \u001b[0mc2pread\u001b[0m\u001b[1;33m,\u001b[0m \u001b[0mc2pwrite\u001b[0m\u001b[1;33m,\u001b[0m\u001b[1;33m\u001b[0m\u001b[1;33m\u001b[0m\u001b[0m\n\u001b[0;32m    774\u001b[0m                                 \u001b[0merrread\u001b[0m\u001b[1;33m,\u001b[0m \u001b[0merrwrite\u001b[0m\u001b[1;33m,\u001b[0m\u001b[1;33m\u001b[0m\u001b[1;33m\u001b[0m\u001b[0m\n\u001b[1;32m--> 775\u001b[1;33m                                 restore_signals, start_new_session)\n\u001b[0m\u001b[0;32m    776\u001b[0m         \u001b[1;32mexcept\u001b[0m\u001b[1;33m:\u001b[0m\u001b[1;33m\u001b[0m\u001b[1;33m\u001b[0m\u001b[0m\n\u001b[0;32m    777\u001b[0m             \u001b[1;31m# Cleanup if the child failed starting.\u001b[0m\u001b[1;33m\u001b[0m\u001b[1;33m\u001b[0m\u001b[1;33m\u001b[0m\u001b[0m\n",
      "\u001b[1;32mc:\\program files\\python37\\lib\\subprocess.py\u001b[0m in \u001b[0;36m_execute_child\u001b[1;34m(self, args, executable, preexec_fn, close_fds, pass_fds, cwd, env, startupinfo, creationflags, shell, p2cread, p2cwrite, c2pread, c2pwrite, errread, errwrite, unused_restore_signals, unused_start_new_session)\u001b[0m\n\u001b[0;32m   1176\u001b[0m                                          \u001b[0menv\u001b[0m\u001b[1;33m,\u001b[0m\u001b[1;33m\u001b[0m\u001b[1;33m\u001b[0m\u001b[0m\n\u001b[0;32m   1177\u001b[0m                                          \u001b[0mos\u001b[0m\u001b[1;33m.\u001b[0m\u001b[0mfspath\u001b[0m\u001b[1;33m(\u001b[0m\u001b[0mcwd\u001b[0m\u001b[1;33m)\u001b[0m \u001b[1;32mif\u001b[0m \u001b[0mcwd\u001b[0m \u001b[1;32mis\u001b[0m \u001b[1;32mnot\u001b[0m \u001b[1;32mNone\u001b[0m \u001b[1;32melse\u001b[0m \u001b[1;32mNone\u001b[0m\u001b[1;33m,\u001b[0m\u001b[1;33m\u001b[0m\u001b[1;33m\u001b[0m\u001b[0m\n\u001b[1;32m-> 1178\u001b[1;33m                                          startupinfo)\n\u001b[0m\u001b[0;32m   1179\u001b[0m             \u001b[1;32mfinally\u001b[0m\u001b[1;33m:\u001b[0m\u001b[1;33m\u001b[0m\u001b[1;33m\u001b[0m\u001b[0m\n\u001b[0;32m   1180\u001b[0m                 \u001b[1;31m# Child is launched. Close the parent's copy of those pipe\u001b[0m\u001b[1;33m\u001b[0m\u001b[1;33m\u001b[0m\u001b[1;33m\u001b[0m\u001b[0m\n",
      "\u001b[1;31mOSError\u001b[0m: [WinError 193] %1 不是有效的 Win32 应用程序。"
     ]
    }
   ],
   "source": [
    "test_abs(args, device_id, cp, step)"
   ]
  }
 ],
 "metadata": {
  "kernelspec": {
   "display_name": "Python 3",
   "language": "python",
   "name": "python3"
  },
  "language_info": {
   "codemirror_mode": {
    "name": "ipython",
    "version": 3
   },
   "file_extension": ".py",
   "mimetype": "text/x-python",
   "name": "python",
   "nbconvert_exporter": "python",
   "pygments_lexer": "ipython3",
   "version": "3.7.3"
  }
 },
 "nbformat": 4,
 "nbformat_minor": 2
}
